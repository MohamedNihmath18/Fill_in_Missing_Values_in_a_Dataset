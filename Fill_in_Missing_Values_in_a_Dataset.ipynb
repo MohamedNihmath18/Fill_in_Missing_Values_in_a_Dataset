{
 "cells": [
  {
   "cell_type": "markdown",
   "id": "40c30b25-e1c2-4928-bc68-f865f7a7ab5d",
   "metadata": {},
   "source": [
    "# How to Fill in Missing Values in a Dataset"
   ]
  },
  {
   "cell_type": "code",
   "execution_count": null,
   "id": "37daa758-e8c3-4826-94ae-6be22af016bd",
   "metadata": {},
   "outputs": [],
   "source": [
    "\"\"\"\n",
    "Data Preparation is one of the most valuable skills every Data Science professional should have. \n",
    "One challenging task in data preparation is filling in missing values and deciding what measure you should consider between mean, median, and mode to fill in the missing values in a dataset.\n",
    "\"\"\""
   ]
  },
  {
   "cell_type": "code",
   "execution_count": 11,
   "id": "540de2a3-5393-4c5a-93ce-66ac83273835",
   "metadata": {},
   "outputs": [],
   "source": [
    "# How to Choose Between Mean, Median, and Mode to Fill in Missing Values"
   ]
  },
  {
   "cell_type": "code",
   "execution_count": 13,
   "id": "117bc279-1e9f-437e-992c-465b980554b8",
   "metadata": {},
   "outputs": [],
   "source": [
    "# Choosing between Mean, Median, and Mode to fill in missing values in a dataset depends on the data you are working with."
   ]
  },
  {
   "cell_type": "code",
   "execution_count": null,
   "id": "7149b32c-7be4-4970-bb65-70b4b9224162",
   "metadata": {},
   "outputs": [],
   "source": [
    "\"\"\"\n",
    "Mean: When your dataset is in a normal distribution, you can use mean to fill in the missing values.\n",
    "Median: When your dataset is not in a normal distribution, you can use the median value to fill in the missing values.\n",
    "Mode: When the missing values in your data are categorical and discrete, you can use the mode value to fill in the missing values.\n",
    "\"\"\""
   ]
  },
  {
   "cell_type": "code",
   "execution_count": null,
   "id": "6f04809c-37ac-40dd-8b2b-bcdad660bec0",
   "metadata": {},
   "outputs": [],
   "source": [
    "\"\"\"\n",
    "So the first step is to see if your data has missing values. If your data has missing values, you need to check the distribution of each numerical variable (with missing values). \n",
    "If the values in the numerical variables are missing, use the Mean value if the variable is in a normal distribution. Otherwise, choose Median. \n",
    "And if the variable is categorical or discrete, you can select mode. So you need to choose a different measure for each variable.\n",
    "\"\"\""
   ]
  },
  {
   "cell_type": "code",
   "execution_count": 15,
   "id": "312a7938-9464-4d46-a32f-32de902be3ac",
   "metadata": {},
   "outputs": [],
   "source": [
    "# let’s create a sample data with missing values so that we can fill in the missing values using Mean, Median, and Mode."
   ]
  },
  {
   "cell_type": "code",
   "execution_count": 25,
   "id": "1c0871c6-9c88-45c1-8e70-a060365573de",
   "metadata": {},
   "outputs": [
    {
     "name": "stdout",
     "output_type": "stream",
     "text": [
      "     A     B      C\n",
      "0  1.0   2.0    red\n",
      "1  2.0   4.0   blue\n",
      "2  3.0   6.0    NaN\n",
      "3  4.0   8.0  green\n",
      "4  NaN   NaN  green\n",
      "5  6.0  12.0   blue\n",
      "6  7.0  14.0    red\n",
      "7  8.0  16.0   blue\n",
      "8  9.0  18.0  green\n",
      "9  NaN   NaN    NaN\n"
     ]
    }
   ],
   "source": [
    "import pandas as pd\n",
    "import numpy as np\n",
    "\n",
    "data = {'A': [1, 2, 3, 4, np.nan, 6, 7, 8, 9, np.nan],\n",
    "        'B': [2, 4, 6, 8, np.nan, 12, 14, 16, 18, np.nan],\n",
    "        'C': ['red', 'blue', np.nan, 'green', 'green', \n",
    "              'blue', 'red', 'blue', 'green', np.nan]}\n",
    "df = pd.DataFrame(data)\n",
    "print(df)"
   ]
  },
  {
   "cell_type": "code",
   "execution_count": 21,
   "id": "37f1b79d-985b-4a3d-94a2-f88a81fdd1a0",
   "metadata": {},
   "outputs": [],
   "source": [
    "# Here’s how to fill in missing values using the mean value"
   ]
  },
  {
   "cell_type": "code",
   "execution_count": 29,
   "id": "cd4650eb-81bc-4bed-bbb6-23803053bcec",
   "metadata": {},
   "outputs": [
    {
     "name": "stdout",
     "output_type": "stream",
     "text": [
      "     A     B      C\n",
      "0  1.0   2.0    red\n",
      "1  2.0   4.0   blue\n",
      "2  3.0   6.0    NaN\n",
      "3  4.0   8.0  green\n",
      "4  5.0   NaN  green\n",
      "5  6.0  12.0   blue\n",
      "6  7.0  14.0    red\n",
      "7  8.0  16.0   blue\n",
      "8  9.0  18.0  green\n",
      "9  5.0   NaN    NaN\n"
     ]
    }
   ],
   "source": [
    "mean_A = df['A'].mean()\n",
    "df['A'] = df['A'].fillna(mean_A)\n",
    "print(df)"
   ]
  },
  {
   "cell_type": "code",
   "execution_count": 31,
   "id": "a090d0a9-e610-4065-a8b2-0b69ff5029af",
   "metadata": {},
   "outputs": [],
   "source": [
    "# Here’s how to fill in missing values using the median value"
   ]
  },
  {
   "cell_type": "code",
   "execution_count": 35,
   "id": "da49362b-9276-4ccf-957e-c0e1066fed4a",
   "metadata": {},
   "outputs": [
    {
     "name": "stdout",
     "output_type": "stream",
     "text": [
      "     A     B      C\n",
      "0  1.0   2.0    red\n",
      "1  2.0   4.0   blue\n",
      "2  3.0   6.0    NaN\n",
      "3  4.0   8.0  green\n",
      "4  5.0  10.0  green\n",
      "5  6.0  12.0   blue\n",
      "6  7.0  14.0    red\n",
      "7  8.0  16.0   blue\n",
      "8  9.0  18.0  green\n",
      "9  5.0  10.0    NaN\n"
     ]
    }
   ],
   "source": [
    "median_B = df['B'].median()\n",
    "df['B'] = df['B'].fillna(median_B)\n",
    "print(df)"
   ]
  },
  {
   "cell_type": "code",
   "execution_count": 37,
   "id": "f027da3d-c2cd-4d5b-adde-64a452e40401",
   "metadata": {},
   "outputs": [],
   "source": [
    "# And now, here’s how to fill in missing values using the mode value"
   ]
  },
  {
   "cell_type": "code",
   "execution_count": 41,
   "id": "68e35c51-856b-4ec3-bb47-77e9bb324d5a",
   "metadata": {},
   "outputs": [
    {
     "name": "stdout",
     "output_type": "stream",
     "text": [
      "     A     B      C\n",
      "0  1.0   2.0    red\n",
      "1  2.0   4.0   blue\n",
      "2  3.0   6.0   blue\n",
      "3  4.0   8.0  green\n",
      "4  5.0  10.0  green\n",
      "5  6.0  12.0   blue\n",
      "6  7.0  14.0    red\n",
      "7  8.0  16.0   blue\n",
      "8  9.0  18.0  green\n",
      "9  5.0  10.0   blue\n"
     ]
    }
   ],
   "source": [
    "mode_C = df['C'].mode()[0]\n",
    "df['C'] = df['C'].fillna(mode_C)\n",
    "print(df)"
   ]
  },
  {
   "cell_type": "code",
   "execution_count": 43,
   "id": "49cb9fd1-eda8-467c-98e3-bab7ad470511",
   "metadata": {},
   "outputs": [],
   "source": [
    "# So this is how you can fill in missing values in your data."
   ]
  },
  {
   "cell_type": "code",
   "execution_count": null,
   "id": "ee1e6e00-56c0-4dda-bafd-bcc1eb8a873f",
   "metadata": {},
   "outputs": [],
   "source": [
    "\"\"\"\n",
    "Summary\n",
    "So the first step is to see if your data has missing values. If your data has missing values, you need to check the distribution of each numerical variable (with missing values). \n",
    "If the values in the numerical variables are missing, use the Mean value if the variable is in a normal distribution. Otherwise, choose Median. \n",
    "And if the variable is categorical or discrete, you can select mode. So you need to choose a different measure for each variable.\n",
    "\"\"\""
   ]
  }
 ],
 "metadata": {
  "kernelspec": {
   "display_name": "Python 3 (ipykernel)",
   "language": "python",
   "name": "python3"
  },
  "language_info": {
   "codemirror_mode": {
    "name": "ipython",
    "version": 3
   },
   "file_extension": ".py",
   "mimetype": "text/x-python",
   "name": "python",
   "nbconvert_exporter": "python",
   "pygments_lexer": "ipython3",
   "version": "3.12.4"
  }
 },
 "nbformat": 4,
 "nbformat_minor": 5
}
